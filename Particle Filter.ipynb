{
 "cells": [
  {
   "cell_type": "code",
   "execution_count": 3,
   "metadata": {
    "collapsed": false
   },
   "outputs": [],
   "source": [
    "from particleFilterGUI import  *\n",
    "number_of_iterations = 50\n",
    "N = 20            #Number of particles used\n",
    "motions = [[2. * pi / 20, 12.] for row in range(number_of_iterations)]\n",
    "wind = DispParticleFilter ( motions, N, displayRealRobot = True, displayGhost = True, enableElitism = False, enableMutation = False, enableMemetic = False )\n",
    "wind.mainloop()"
   ]
  },
  {
   "cell_type": "code",
   "execution_count": null,
   "metadata": {
    "collapsed": true
   },
   "outputs": [],
   "source": []
  }
 ],
 "metadata": {
  "kernelspec": {
   "display_name": "Python 2",
   "language": "python",
   "name": "python2"
  },
  "language_info": {
   "codemirror_mode": {
    "name": "ipython",
    "version": 2
   },
   "file_extension": ".py",
   "mimetype": "text/x-python",
   "name": "python",
   "nbconvert_exporter": "python",
   "pygments_lexer": "ipython2",
   "version": "2.7.10"
  }
 },
 "nbformat": 4,
 "nbformat_minor": 0
}
